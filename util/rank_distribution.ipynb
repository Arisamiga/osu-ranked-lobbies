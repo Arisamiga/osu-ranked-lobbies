{
 "cells": [
  {
   "cell_type": "code",
   "execution_count": 7,
   "id": "9e545dfe",
   "metadata": {},
   "outputs": [],
   "source": [
    "from matplotlib import pyplot as plt\n",
    "%matplotlib inline\n",
    "\n",
    "import sqlite3\n",
    "con = sqlite3.connect(\"../ranks.db\")\n",
    "cur = con.cursor()"
   ]
  },
  {
   "cell_type": "code",
   "execution_count": 8,
   "id": "4e0e8e7d",
   "metadata": {},
   "outputs": [
    {
     "data": {
      "image/png": "[encoded data removed]",
      "text/plain": [
       "<Figure size 432x288 with 1 Axes>"
      ]
     },
     "metadata": {
      "needs_background": "light"
     },
     "output_type": "display_data"
    }
   ],
   "source": [
    "users = cur.execute(\"SELECT elo FROM user WHERE games_played > 4\")\n",
    "elos = [user[0] for user in users]\n",
    "\n",
    "plt.hist(elos, 50)\n",
    "plt.title(\"Elo distribution\")\n",
    "plt.show() # 400 beta 16 transfer speed 80 siglimit"
   ]
  },
  {
   "cell_type": "code",
   "execution_count": null,
   "id": "42cef2c4",
   "metadata": {},
   "outputs": [],
   "source": []
  }
 ],
 "metadata": {
  "kernelspec": {
   "display_name": "Python 3",
   "language": "python",
   "name": "python3"
  },
  "language_info": {
   "codemirror_mode": {
    "name": "ipython",
    "version": 3
   },
   "file_extension": ".py",
   "mimetype": "text/x-python",
   "name": "python",
   "nbconvert_exporter": "python",
   "pygments_lexer": "ipython3",
   "version": "3.9.7"
  }
 },
 "nbformat": 4,
 "nbformat_minor": 5
}
